{
  "nbformat": 4,
  "nbformat_minor": 0,
  "metadata": {
    "colab": {
      "name": "BASIC TAX 03.ipynb",
      "provenance": []
    },
    "kernelspec": {
      "name": "python3",
      "display_name": "Python 3"
    },
    "language_info": {
      "name": "python"
    }
  },
  "cells": [
    {
      "cell_type": "markdown",
      "source": [
        ""
      ],
      "metadata": {
        "id": "_ZTBgzdTym84"
      }
    },
    {
      "cell_type": "code",
      "source": [
        "x=10"
      ],
      "metadata": {
        "id": "kfRBWJiJynr2"
      },
      "execution_count": 14,
      "outputs": []
    },
    {
      "cell_type": "code",
      "source": [
        "if x>10:\n",
        "  print(\"x is greater than 10\")\n",
        "if x<10:\n",
        "  print(\"x is less than 10\")\n",
        "if x==10:  \n",
        "  print(\"x10\")"
      ],
      "metadata": {
        "colab": {
          "base_uri": "https://localhost:8080/"
        },
        "id": "ds5f5p460fZl",
        "outputId": "7c67d619-218c-4c03-843d-f6d3eba871b3"
      },
      "execution_count": 15,
      "outputs": [
        {
          "output_type": "stream",
          "name": "stdout",
          "text": [
            "x10\n"
          ]
        }
      ]
    },
    {
      "cell_type": "code",
      "source": [
        "x=int(input(\"enter your mark:\"))\n",
        "if x>100:\n",
        "  print(\"pass\")\n",
        "if x<100:\n",
        "  print(\"fail\")\n",
        "if x==100:\n",
        "  print(\"just pass\")"
      ],
      "metadata": {
        "colab": {
          "base_uri": "https://localhost:8080/"
        },
        "id": "cXa_hyfb1Dbe",
        "outputId": "4bbbd660-91bc-4636-fe98-159376562345"
      },
      "execution_count": 24,
      "outputs": [
        {
          "output_type": "stream",
          "name": "stdout",
          "text": [
            "enter your mark:110\n",
            "pass\n"
          ]
        }
      ]
    },
    {
      "cell_type": "code",
      "source": [
        "type(x)"
      ],
      "metadata": {
        "colab": {
          "base_uri": "https://localhost:8080/"
        },
        "id": "Noxjx43HBj8Z",
        "outputId": "8fddf3a0-2c1b-4b35-8887-019ad0518dee"
      },
      "execution_count": 25,
      "outputs": [
        {
          "output_type": "execute_result",
          "data": {
            "text/plain": [
              "int"
            ]
          },
          "metadata": {},
          "execution_count": 25
        }
      ]
    },
    {
      "cell_type": "code",
      "source": [
        "x=int(input(\"enter your salary\"))\n",
        "if x<2500000:\n",
        "  print(\"you are not taxable\")\n",
        "if x>2500000:\n",
        "  print(\"you are taxable\")\n",
        "  print(x*10/100)"
      ],
      "metadata": {
        "colab": {
          "base_uri": "https://localhost:8080/"
        },
        "id": "_QrVEx_9B9kZ",
        "outputId": "a7fe8cce-d2a8-4825-ad86-5e3e36ec2db8"
      },
      "execution_count": 29,
      "outputs": [
        {
          "output_type": "stream",
          "name": "stdout",
          "text": [
            "enter your salary5000000\n",
            "you are taxable\n",
            "500000.0\n"
          ]
        }
      ]
    },
    {
      "cell_type": "code",
      "source": [
        ""
      ],
      "metadata": {
        "id": "i1Fo1jA7FG94"
      },
      "execution_count": null,
      "outputs": []
    }
  ]
}